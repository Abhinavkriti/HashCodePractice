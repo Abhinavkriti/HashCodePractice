{
 "cells": [
  {
   "cell_type": "code",
   "execution_count": 1,
   "metadata": {},
   "outputs": [],
   "source": [
    "test_file = 'a_example.in'"
   ]
  },
  {
   "cell_type": "code",
   "execution_count": 2,
   "metadata": {},
   "outputs": [],
   "source": [
    "def read_input(filename):\n",
    "    with open(filename) as f:\n",
    "    \n",
    "        contents = f.readlines()\n",
    "        data = [line.split() for line in contents]\n",
    "    return data\n"
   ]
  },
  {
   "cell_type": "code",
   "execution_count": 3,
   "metadata": {},
   "outputs": [],
   "source": [
    "input_data = read_input(test_file)"
   ]
  },
  {
   "cell_type": "code",
   "execution_count": 4,
   "metadata": {},
   "outputs": [],
   "source": [
    "header = input_data[0]\n",
    "R, C, F, N, B, T = header"
   ]
  },
  {
   "cell_type": "code",
   "execution_count": 17,
   "metadata": {},
   "outputs": [],
   "source": [
    "class Ride:\n",
    "    \n",
    "    def __init__(self, lst):\n",
    "        \n",
    "        a, b, x, y, s, f = lst\n",
    "        self.start_pos = a, b\n",
    "        self.finish_pos = x, y\n",
    "        \n",
    "        self.start = s\n",
    "        self.finish = f\n",
    "        \n",
    "    def __repr__(self):\n",
    "        x = \"start_pos: {}\\n\".format(self.start_pos)\n",
    "        x += \"finish_pos: {}\\n\".format(self.finish_pos)\n",
    "        x += \"start: {}\\n\".format(self.start)        \n",
    "        x += \"finish: {}\\n\".format(self.finish)\n",
    "        return x"
   ]
  },
  {
   "cell_type": "code",
   "execution_count": 18,
   "metadata": {},
   "outputs": [],
   "source": [
    "rides = [Ride(ride) for ride in input_data[1:]]"
   ]
  },
  {
   "cell_type": "code",
   "execution_count": 19,
   "metadata": {},
   "outputs": [
    {
     "data": {
      "text/plain": [
       "[start_pos: ('0', '0')\n",
       " finish_pos: ('1', '3')\n",
       " start: 2\n",
       " finish: 9, start_pos: ('1', '2')\n",
       " finish_pos: ('1', '0')\n",
       " start: 0\n",
       " finish: 9, start_pos: ('2', '0')\n",
       " finish_pos: ('2', '2')\n",
       " start: 0\n",
       " finish: 9]"
      ]
     },
     "execution_count": 19,
     "metadata": {},
     "output_type": "execute_result"
    }
   ],
   "source": [
    "rides"
   ]
  },
  {
   "cell_type": "code",
   "execution_count": null,
   "metadata": {},
   "outputs": [],
   "source": []
  }
 ],
 "metadata": {
  "kernelspec": {
   "display_name": "Python 2",
   "language": "python",
   "name": "python2"
  },
  "language_info": {
   "codemirror_mode": {
    "name": "ipython",
    "version": 2
   },
   "file_extension": ".py",
   "mimetype": "text/x-python",
   "name": "python",
   "nbconvert_exporter": "python",
   "pygments_lexer": "ipython2",
   "version": "2.7.17"
  }
 },
 "nbformat": 4,
 "nbformat_minor": 2
}
